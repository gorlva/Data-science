{
  "nbformat": 4,
  "nbformat_minor": 0,
  "metadata": {
    "colab": {
      "name": "деревья решений",
      "provenance": [],
      "collapsed_sections": []
    },
    "kernelspec": {
      "display_name": "Python 3",
      "language": "python",
      "name": "python3"
    },
    "language_info": {
      "codemirror_mode": {
        "name": "ipython",
        "version": 3
      },
      "file_extension": ".py",
      "mimetype": "text/x-python",
      "name": "python",
      "nbconvert_exporter": "python",
      "pygments_lexer": "ipython3",
      "version": "3.6.3"
    }
  },
  "cells": [
    {
      "cell_type": "markdown",
      "metadata": {
        "id": "TYXfFVl6Kmyv"
      },
      "source": [
        "DecisionTreeClassifier\n"
      ]
    },
    {
      "cell_type": "code",
      "metadata": {
        "id": "VKSo465QLYm_"
      },
      "source": [
        "# import load_wine dataset, starter pack"
      ],
      "execution_count": null,
      "outputs": []
    },
    {
      "cell_type": "code",
      "metadata": {
        "id": "XdWEqtdn4I-4"
      },
      "source": [
        "from sklearn.datasets import load_wine\n",
        "from sklearn.tree import DecisionTreeClassifier\n",
        "from sklearn.model_selection import train_test_split"
      ],
      "execution_count": null,
      "outputs": []
    },
    {
      "cell_type": "code",
      "metadata": {
        "colab": {
          "base_uri": "https://localhost:8080/"
        },
        "id": "iIIbZ0vGddPl",
        "outputId": "04774c98-fdc2-4e99-dba7-b819c70c9cd6"
      },
      "source": [
        "df = load_wine()\n",
        "df.keys()"
      ],
      "execution_count": null,
      "outputs": [
        {
          "output_type": "execute_result",
          "data": {
            "text/plain": [
              "dict_keys(['data', 'target', 'target_names', 'DESCR', 'feature_names'])"
            ]
          },
          "metadata": {
            "tags": []
          },
          "execution_count": 9
        }
      ]
    },
    {
      "cell_type": "code",
      "metadata": {
        "id": "14PR8-jjdxyr"
      },
      "source": [
        "X = df.data; y = df.target\n",
        "X_train, X_test, y_train, y_test = train_test_split(X, y, test_size=17)"
      ],
      "execution_count": null,
      "outputs": []
    },
    {
      "cell_type": "code",
      "metadata": {
        "id": "OuVbFpAuLreo"
      },
      "source": [
        "# first DTC"
      ],
      "execution_count": null,
      "outputs": []
    },
    {
      "cell_type": "code",
      "metadata": {
        "id": "kIW5BiVZeRuc"
      },
      "source": [
        "dtc = DecisionTreeClassifier()"
      ],
      "execution_count": null,
      "outputs": []
    },
    {
      "cell_type": "code",
      "metadata": {
        "id": "eiQhUMZ0eRxO"
      },
      "source": [
        "dtc_model = dtc.fit(X_train, y_train)"
      ],
      "execution_count": null,
      "outputs": []
    },
    {
      "cell_type": "code",
      "metadata": {
        "id": "XnBMUn5GeR1b"
      },
      "source": [
        "dtc_predictions = dtc.predict(X_test)"
      ],
      "execution_count": null,
      "outputs": []
    },
    {
      "cell_type": "code",
      "metadata": {
        "colab": {
          "base_uri": "https://localhost:8080/"
        },
        "id": "VLP-q3qVeinl",
        "outputId": "d790400a-8fbc-477e-b94a-b3238ca3956e"
      },
      "source": [
        "accuracy = dtc.score(X_test, y_test)\n",
        "print(f'Accuracy: {accuracy}')"
      ],
      "execution_count": null,
      "outputs": [
        {
          "output_type": "stream",
          "text": [
            "Accuracy: 1.0\n"
          ],
          "name": "stdout"
        }
      ]
    },
    {
      "cell_type": "code",
      "metadata": {
        "id": "olL7-WrML71r"
      },
      "source": [
        "#  visualize decision tree using Graphviz"
      ],
      "execution_count": null,
      "outputs": []
    },
    {
      "cell_type": "code",
      "metadata": {
        "id": "nZhmh4K94I-_"
      },
      "source": [
        "from sklearn import tree\n",
        "import graphviz"
      ],
      "execution_count": null,
      "outputs": []
    },
    {
      "cell_type": "code",
      "metadata": {
        "id": "xb-TBuRW4I_B",
        "colab": {
          "base_uri": "https://localhost:8080/",
          "height": 757
        },
        "outputId": "d9893f68-68aa-416a-aca7-7d3c2b89f42a"
      },
      "source": [
        "def print_graph(data):\n",
        "    dot_data = tree.export_graphviz(data, out_file=None,\n",
        "                                    feature_names=df.feature_names,  \n",
        "                                    class_names=df.target_names,  \n",
        "                                    filled=True)  \n",
        "    return graphviz.Source(dot_data)  \n",
        "\n",
        "print_graph(dtc_model)"
      ],
      "execution_count": null,
      "outputs": [
        {
          "output_type": "execute_result",
          "data": {
            "text/plain": [
              "<graphviz.files.Source at 0x7fdb6ba89610>"
            ],
            "image/svg+xml": "<?xml version=\"1.0\" encoding=\"UTF-8\" standalone=\"no\"?>\n<!DOCTYPE svg PUBLIC \"-//W3C//DTD SVG 1.1//EN\"\n \"http://www.w3.org/Graphics/SVG/1.1/DTD/svg11.dtd\">\n<!-- Generated by graphviz version 2.40.1 (20161225.0304)\n -->\n<!-- Title: Tree Pages: 1 -->\n<svg width=\"536pt\" height=\"552pt\"\n viewBox=\"0.00 0.00 536.00 552.00\" xmlns=\"http://www.w3.org/2000/svg\" xmlns:xlink=\"http://www.w3.org/1999/xlink\">\n<g id=\"graph0\" class=\"graph\" transform=\"scale(1 1) rotate(0) translate(4 548)\">\n<title>Tree</title>\n<polygon fill=\"#ffffff\" stroke=\"transparent\" points=\"-4,4 -4,-548 532,-548 532,4 -4,4\"/>\n<!-- 0 -->\n<g id=\"node1\" class=\"node\">\n<title>0</title>\n<polygon fill=\"#e2fbed\" stroke=\"#000000\" points=\"263.5,-544 111.5,-544 111.5,-461 263.5,-461 263.5,-544\"/>\n<text text-anchor=\"middle\" x=\"187.5\" y=\"-528.8\" font-family=\"Times,serif\" font-size=\"14.00\" fill=\"#000000\">color_intensity &lt;= 3.46</text>\n<text text-anchor=\"middle\" x=\"187.5\" y=\"-513.8\" font-family=\"Times,serif\" font-size=\"14.00\" fill=\"#000000\">gini = 0.657</text>\n<text text-anchor=\"middle\" x=\"187.5\" y=\"-498.8\" font-family=\"Times,serif\" font-size=\"14.00\" fill=\"#000000\">samples = 161</text>\n<text text-anchor=\"middle\" x=\"187.5\" y=\"-483.8\" font-family=\"Times,serif\" font-size=\"14.00\" fill=\"#000000\">value = [50, 66, 45]</text>\n<text text-anchor=\"middle\" x=\"187.5\" y=\"-468.8\" font-family=\"Times,serif\" font-size=\"14.00\" fill=\"#000000\">class = class_1</text>\n</g>\n<!-- 1 -->\n<g id=\"node2\" class=\"node\">\n<title>1</title>\n<polygon fill=\"#39e581\" stroke=\"#000000\" points=\"175,-417.5 58,-417.5 58,-349.5 175,-349.5 175,-417.5\"/>\n<text text-anchor=\"middle\" x=\"116.5\" y=\"-402.3\" font-family=\"Times,serif\" font-size=\"14.00\" fill=\"#000000\">gini = 0.0</text>\n<text text-anchor=\"middle\" x=\"116.5\" y=\"-387.3\" font-family=\"Times,serif\" font-size=\"14.00\" fill=\"#000000\">samples = 53</text>\n<text text-anchor=\"middle\" x=\"116.5\" y=\"-372.3\" font-family=\"Times,serif\" font-size=\"14.00\" fill=\"#000000\">value = [0, 53, 0]</text>\n<text text-anchor=\"middle\" x=\"116.5\" y=\"-357.3\" font-family=\"Times,serif\" font-size=\"14.00\" fill=\"#000000\">class = class_1</text>\n</g>\n<!-- 0&#45;&gt;1 -->\n<g id=\"edge1\" class=\"edge\">\n<title>0&#45;&gt;1</title>\n<path fill=\"none\" stroke=\"#000000\" d=\"M162.6676,-460.8796C156.0413,-449.7735 148.8684,-437.7513 142.1967,-426.5691\"/>\n<polygon fill=\"#000000\" stroke=\"#000000\" points=\"145.1031,-424.6093 136.9736,-417.8149 139.0917,-428.1959 145.1031,-424.6093\"/>\n<text text-anchor=\"middle\" x=\"130.8502\" y=\"-438.3534\" font-family=\"Times,serif\" font-size=\"14.00\" fill=\"#000000\">True</text>\n</g>\n<!-- 2 -->\n<g id=\"node3\" class=\"node\">\n<title>2</title>\n<polygon fill=\"#fdf5ef\" stroke=\"#000000\" points=\"325.5,-425 193.5,-425 193.5,-342 325.5,-342 325.5,-425\"/>\n<text text-anchor=\"middle\" x=\"259.5\" y=\"-409.8\" font-family=\"Times,serif\" font-size=\"14.00\" fill=\"#000000\">flavanoids &lt;= 1.58</text>\n<text text-anchor=\"middle\" x=\"259.5\" y=\"-394.8\" font-family=\"Times,serif\" font-size=\"14.00\" fill=\"#000000\">gini = 0.598</text>\n<text text-anchor=\"middle\" x=\"259.5\" y=\"-379.8\" font-family=\"Times,serif\" font-size=\"14.00\" fill=\"#000000\">samples = 108</text>\n<text text-anchor=\"middle\" x=\"259.5\" y=\"-364.8\" font-family=\"Times,serif\" font-size=\"14.00\" fill=\"#000000\">value = [50, 13, 45]</text>\n<text text-anchor=\"middle\" x=\"259.5\" y=\"-349.8\" font-family=\"Times,serif\" font-size=\"14.00\" fill=\"#000000\">class = class_0</text>\n</g>\n<!-- 0&#45;&gt;2 -->\n<g id=\"edge2\" class=\"edge\">\n<title>0&#45;&gt;2</title>\n<path fill=\"none\" stroke=\"#000000\" d=\"M212.6821,-460.8796C217.9133,-452.2335 223.4805,-443.0322 228.8823,-434.1042\"/>\n<polygon fill=\"#000000\" stroke=\"#000000\" points=\"232.0283,-435.6658 234.2104,-425.2981 226.0392,-432.0421 232.0283,-435.6658\"/>\n<text text-anchor=\"middle\" x=\"240.184\" y=\"-445.8739\" font-family=\"Times,serif\" font-size=\"14.00\" fill=\"#000000\">False</text>\n</g>\n<!-- 3 -->\n<g id=\"node4\" class=\"node\">\n<title>3</title>\n<polygon fill=\"#8742e6\" stroke=\"#000000\" points=\"248,-306 131,-306 131,-223 248,-223 248,-306\"/>\n<text text-anchor=\"middle\" x=\"189.5\" y=\"-290.8\" font-family=\"Times,serif\" font-size=\"14.00\" fill=\"#000000\">hue &lt;= 0.97</text>\n<text text-anchor=\"middle\" x=\"189.5\" y=\"-275.8\" font-family=\"Times,serif\" font-size=\"14.00\" fill=\"#000000\">gini = 0.081</text>\n<text text-anchor=\"middle\" x=\"189.5\" y=\"-260.8\" font-family=\"Times,serif\" font-size=\"14.00\" fill=\"#000000\">samples = 47</text>\n<text text-anchor=\"middle\" x=\"189.5\" y=\"-245.8\" font-family=\"Times,serif\" font-size=\"14.00\" fill=\"#000000\">value = [0, 2, 45]</text>\n<text text-anchor=\"middle\" x=\"189.5\" y=\"-230.8\" font-family=\"Times,serif\" font-size=\"14.00\" fill=\"#000000\">class = class_2</text>\n</g>\n<!-- 2&#45;&gt;3 -->\n<g id=\"edge3\" class=\"edge\">\n<title>2&#45;&gt;3</title>\n<path fill=\"none\" stroke=\"#000000\" d=\"M235.0174,-341.8796C229.9315,-333.2335 224.5189,-324.0322 219.2672,-315.1042\"/>\n<polygon fill=\"#000000\" stroke=\"#000000\" points=\"222.1741,-313.1428 214.0871,-306.2981 216.1406,-316.692 222.1741,-313.1428\"/>\n</g>\n<!-- 6 -->\n<g id=\"node7\" class=\"node\">\n<title>6</title>\n<polygon fill=\"#eb9d65\" stroke=\"#000000\" points=\"390.5,-306 266.5,-306 266.5,-223 390.5,-223 390.5,-306\"/>\n<text text-anchor=\"middle\" x=\"328.5\" y=\"-290.8\" font-family=\"Times,serif\" font-size=\"14.00\" fill=\"#000000\">proline &lt;= 724.5</text>\n<text text-anchor=\"middle\" x=\"328.5\" y=\"-275.8\" font-family=\"Times,serif\" font-size=\"14.00\" fill=\"#000000\">gini = 0.296</text>\n<text text-anchor=\"middle\" x=\"328.5\" y=\"-260.8\" font-family=\"Times,serif\" font-size=\"14.00\" fill=\"#000000\">samples = 61</text>\n<text text-anchor=\"middle\" x=\"328.5\" y=\"-245.8\" font-family=\"Times,serif\" font-size=\"14.00\" fill=\"#000000\">value = [50, 11, 0]</text>\n<text text-anchor=\"middle\" x=\"328.5\" y=\"-230.8\" font-family=\"Times,serif\" font-size=\"14.00\" fill=\"#000000\">class = class_0</text>\n</g>\n<!-- 2&#45;&gt;6 -->\n<g id=\"edge6\" class=\"edge\">\n<title>2&#45;&gt;6</title>\n<path fill=\"none\" stroke=\"#000000\" d=\"M283.6329,-341.8796C288.6461,-333.2335 293.9813,-324.0322 299.1581,-315.1042\"/>\n<polygon fill=\"#000000\" stroke=\"#000000\" points=\"302.2758,-316.7047 304.2641,-306.2981 296.2202,-313.1934 302.2758,-316.7047\"/>\n</g>\n<!-- 4 -->\n<g id=\"node5\" class=\"node\">\n<title>4</title>\n<polygon fill=\"#8139e5\" stroke=\"#000000\" points=\"117,-179.5 0,-179.5 0,-111.5 117,-111.5 117,-179.5\"/>\n<text text-anchor=\"middle\" x=\"58.5\" y=\"-164.3\" font-family=\"Times,serif\" font-size=\"14.00\" fill=\"#000000\">gini = 0.0</text>\n<text text-anchor=\"middle\" x=\"58.5\" y=\"-149.3\" font-family=\"Times,serif\" font-size=\"14.00\" fill=\"#000000\">samples = 45</text>\n<text text-anchor=\"middle\" x=\"58.5\" y=\"-134.3\" font-family=\"Times,serif\" font-size=\"14.00\" fill=\"#000000\">value = [0, 0, 45]</text>\n<text text-anchor=\"middle\" x=\"58.5\" y=\"-119.3\" font-family=\"Times,serif\" font-size=\"14.00\" fill=\"#000000\">class = class_2</text>\n</g>\n<!-- 3&#45;&gt;4 -->\n<g id=\"edge4\" class=\"edge\">\n<title>3&#45;&gt;4</title>\n<path fill=\"none\" stroke=\"#000000\" d=\"M143.6826,-222.8796C130.7303,-211.1138 116.646,-198.3197 103.7286,-186.5855\"/>\n<polygon fill=\"#000000\" stroke=\"#000000\" points=\"106.0306,-183.9482 96.2753,-179.8149 101.3239,-189.1296 106.0306,-183.9482\"/>\n</g>\n<!-- 5 -->\n<g id=\"node6\" class=\"node\">\n<title>5</title>\n<polygon fill=\"#39e581\" stroke=\"#000000\" points=\"245.5,-179.5 135.5,-179.5 135.5,-111.5 245.5,-111.5 245.5,-179.5\"/>\n<text text-anchor=\"middle\" x=\"190.5\" y=\"-164.3\" font-family=\"Times,serif\" font-size=\"14.00\" fill=\"#000000\">gini = 0.0</text>\n<text text-anchor=\"middle\" x=\"190.5\" y=\"-149.3\" font-family=\"Times,serif\" font-size=\"14.00\" fill=\"#000000\">samples = 2</text>\n<text text-anchor=\"middle\" x=\"190.5\" y=\"-134.3\" font-family=\"Times,serif\" font-size=\"14.00\" fill=\"#000000\">value = [0, 2, 0]</text>\n<text text-anchor=\"middle\" x=\"190.5\" y=\"-119.3\" font-family=\"Times,serif\" font-size=\"14.00\" fill=\"#000000\">class = class_1</text>\n</g>\n<!-- 3&#45;&gt;5 -->\n<g id=\"edge5\" class=\"edge\">\n<title>3&#45;&gt;5</title>\n<path fill=\"none\" stroke=\"#000000\" d=\"M189.8498,-222.8796C189.9394,-212.2134 190.0361,-200.7021 190.1269,-189.9015\"/>\n<polygon fill=\"#000000\" stroke=\"#000000\" points=\"193.6274,-189.844 190.2116,-179.8149 186.6276,-189.7851 193.6274,-189.844\"/>\n</g>\n<!-- 7 -->\n<g id=\"node8\" class=\"node\">\n<title>7</title>\n<polygon fill=\"#4be78c\" stroke=\"#000000\" points=\"392.5,-187 264.5,-187 264.5,-104 392.5,-104 392.5,-187\"/>\n<text text-anchor=\"middle\" x=\"328.5\" y=\"-171.8\" font-family=\"Times,serif\" font-size=\"14.00\" fill=\"#000000\">malic_acid &lt;= 3.92</text>\n<text text-anchor=\"middle\" x=\"328.5\" y=\"-156.8\" font-family=\"Times,serif\" font-size=\"14.00\" fill=\"#000000\">gini = 0.153</text>\n<text text-anchor=\"middle\" x=\"328.5\" y=\"-141.8\" font-family=\"Times,serif\" font-size=\"14.00\" fill=\"#000000\">samples = 12</text>\n<text text-anchor=\"middle\" x=\"328.5\" y=\"-126.8\" font-family=\"Times,serif\" font-size=\"14.00\" fill=\"#000000\">value = [1, 11, 0]</text>\n<text text-anchor=\"middle\" x=\"328.5\" y=\"-111.8\" font-family=\"Times,serif\" font-size=\"14.00\" fill=\"#000000\">class = class_1</text>\n</g>\n<!-- 6&#45;&gt;7 -->\n<g id=\"edge7\" class=\"edge\">\n<title>6&#45;&gt;7</title>\n<path fill=\"none\" stroke=\"#000000\" d=\"M328.5,-222.8796C328.5,-214.6838 328.5,-205.9891 328.5,-197.5013\"/>\n<polygon fill=\"#000000\" stroke=\"#000000\" points=\"332.0001,-197.298 328.5,-187.2981 325.0001,-197.2981 332.0001,-197.298\"/>\n</g>\n<!-- 10 -->\n<g id=\"node11\" class=\"node\">\n<title>10</title>\n<polygon fill=\"#e58139\" stroke=\"#000000\" points=\"528,-179.5 411,-179.5 411,-111.5 528,-111.5 528,-179.5\"/>\n<text text-anchor=\"middle\" x=\"469.5\" y=\"-164.3\" font-family=\"Times,serif\" font-size=\"14.00\" fill=\"#000000\">gini = 0.0</text>\n<text text-anchor=\"middle\" x=\"469.5\" y=\"-149.3\" font-family=\"Times,serif\" font-size=\"14.00\" fill=\"#000000\">samples = 49</text>\n<text text-anchor=\"middle\" x=\"469.5\" y=\"-134.3\" font-family=\"Times,serif\" font-size=\"14.00\" fill=\"#000000\">value = [49, 0, 0]</text>\n<text text-anchor=\"middle\" x=\"469.5\" y=\"-119.3\" font-family=\"Times,serif\" font-size=\"14.00\" fill=\"#000000\">class = class_0</text>\n</g>\n<!-- 6&#45;&gt;10 -->\n<g id=\"edge10\" class=\"edge\">\n<title>6&#45;&gt;10</title>\n<path fill=\"none\" stroke=\"#000000\" d=\"M377.815,-222.8796C391.756,-211.1138 406.9154,-198.3197 420.8188,-186.5855\"/>\n<polygon fill=\"#000000\" stroke=\"#000000\" points=\"423.4564,-188.9394 428.8411,-179.8149 418.9416,-183.5899 423.4564,-188.9394\"/>\n</g>\n<!-- 8 -->\n<g id=\"node9\" class=\"node\">\n<title>8</title>\n<polygon fill=\"#39e581\" stroke=\"#000000\" points=\"320.5,-68 204.5,-68 204.5,0 320.5,0 320.5,-68\"/>\n<text text-anchor=\"middle\" x=\"262.5\" y=\"-52.8\" font-family=\"Times,serif\" font-size=\"14.00\" fill=\"#000000\">gini = 0.0</text>\n<text text-anchor=\"middle\" x=\"262.5\" y=\"-37.8\" font-family=\"Times,serif\" font-size=\"14.00\" fill=\"#000000\">samples = 11</text>\n<text text-anchor=\"middle\" x=\"262.5\" y=\"-22.8\" font-family=\"Times,serif\" font-size=\"14.00\" fill=\"#000000\">value = [0, 11, 0]</text>\n<text text-anchor=\"middle\" x=\"262.5\" y=\"-7.8\" font-family=\"Times,serif\" font-size=\"14.00\" fill=\"#000000\">class = class_1</text>\n</g>\n<!-- 7&#45;&gt;8 -->\n<g id=\"edge8\" class=\"edge\">\n<title>7&#45;&gt;8</title>\n<path fill=\"none\" stroke=\"#000000\" d=\"M303.924,-103.9815C298.7014,-95.1585 293.1771,-85.8258 287.9237,-76.9506\"/>\n<polygon fill=\"#000000\" stroke=\"#000000\" points=\"290.8874,-75.0863 282.7816,-68.2637 284.8636,-78.652 290.8874,-75.0863\"/>\n</g>\n<!-- 9 -->\n<g id=\"node10\" class=\"node\">\n<title>9</title>\n<polygon fill=\"#e58139\" stroke=\"#000000\" points=\"448.5,-68 338.5,-68 338.5,0 448.5,0 448.5,-68\"/>\n<text text-anchor=\"middle\" x=\"393.5\" y=\"-52.8\" font-family=\"Times,serif\" font-size=\"14.00\" fill=\"#000000\">gini = 0.0</text>\n<text text-anchor=\"middle\" x=\"393.5\" y=\"-37.8\" font-family=\"Times,serif\" font-size=\"14.00\" fill=\"#000000\">samples = 1</text>\n<text text-anchor=\"middle\" x=\"393.5\" y=\"-22.8\" font-family=\"Times,serif\" font-size=\"14.00\" fill=\"#000000\">value = [1, 0, 0]</text>\n<text text-anchor=\"middle\" x=\"393.5\" y=\"-7.8\" font-family=\"Times,serif\" font-size=\"14.00\" fill=\"#000000\">class = class_0</text>\n</g>\n<!-- 7&#45;&gt;9 -->\n<g id=\"edge9\" class=\"edge\">\n<title>7&#45;&gt;9</title>\n<path fill=\"none\" stroke=\"#000000\" d=\"M352.7036,-103.9815C357.8471,-95.1585 363.2877,-85.8258 368.4616,-76.9506\"/>\n<polygon fill=\"#000000\" stroke=\"#000000\" points=\"371.513,-78.6656 373.5257,-68.2637 365.4656,-75.1402 371.513,-78.6656\"/>\n</g>\n</g>\n</svg>\n"
          },
          "metadata": {
            "tags": []
          },
          "execution_count": 22
        }
      ]
    },
    {
      "cell_type": "code",
      "metadata": {
        "id": "j5a8GfPcMJTK"
      },
      "source": [
        "# hyperparameters tuning"
      ],
      "execution_count": null,
      "outputs": []
    },
    {
      "cell_type": "code",
      "metadata": {
        "id": "YERr0LVB4I_J"
      },
      "source": [
        "dtc_1 = DecisionTreeClassifier(max_features=2)"
      ],
      "execution_count": null,
      "outputs": []
    },
    {
      "cell_type": "code",
      "metadata": {
        "id": "ASVk28EEf0uA"
      },
      "source": [
        "dtc_1_model = dtc_1.fit(X_train, y_train)"
      ],
      "execution_count": null,
      "outputs": []
    },
    {
      "cell_type": "code",
      "metadata": {
        "id": "YxCNfIdLf0w4"
      },
      "source": [
        "dtc_predictions = dtc.predict(X_test)"
      ],
      "execution_count": null,
      "outputs": []
    },
    {
      "cell_type": "code",
      "metadata": {
        "colab": {
          "base_uri": "https://localhost:8080/"
        },
        "id": "YagVBHfEf9pJ",
        "outputId": "214ad99f-bc5a-4eb8-c200-50848677e569"
      },
      "source": [
        "accuracy = dtc.score(X_test, y_test)\n",
        "print(f'Accuracy: {accuracy}')"
      ],
      "execution_count": null,
      "outputs": [
        {
          "output_type": "stream",
          "text": [
            "Accuracy: 0.9411764705882353\n"
          ],
          "name": "stdout"
        }
      ]
    },
    {
      "cell_type": "code",
      "metadata": {
        "id": "0Z7DfoG-MZM0"
      },
      "source": [
        "# decision tree graph using Graphviz"
      ],
      "execution_count": null,
      "outputs": []
    },
    {
      "cell_type": "code",
      "metadata": {
        "id": "0TsyA7zi4I_M",
        "colab": {
          "base_uri": "https://localhost:8080/",
          "height": 1000
        },
        "outputId": "a5f0efa3-e872-4709-a639-8dcd92a8d296"
      },
      "source": [
        "def print_graph(data):\n",
        "    dot_data = tree.export_graphviz(data, out_file=None,\n",
        "                                    feature_names=df.feature_names,  \n",
        "                                    class_names=df.target_names,  \n",
        "                                    filled=True)  \n",
        "    return graphviz.Source(dot_data)  \n",
        "\n",
        "print_graph(dtc_1_model)"
      ],
      "execution_count": null,
      "outputs": [
        {
          "output_type": "execute_result",
          "data": {
            "text/plain": [
              "<graphviz.files.Source at 0x7fdb6ba152d0>"
            ],
            "image/svg+xml": "<?xml version=\"1.0\" encoding=\"UTF-8\" standalone=\"no\"?>\n<!DOCTYPE svg PUBLIC \"-//W3C//DTD SVG 1.1//EN\"\n \"http://www.w3.org/Graphics/SVG/1.1/DTD/svg11.dtd\">\n<!-- Generated by graphviz version 2.40.1 (20161225.0304)\n -->\n<!-- Title: Tree Pages: 1 -->\n<svg width=\"1664pt\" height=\"909pt\"\n viewBox=\"0.00 0.00 1664.00 909.00\" xmlns=\"http://www.w3.org/2000/svg\" xmlns:xlink=\"http://www.w3.org/1999/xlink\">\n<g id=\"graph0\" class=\"graph\" transform=\"scale(1 1) rotate(0) translate(4 905)\">\n<title>Tree</title>\n<polygon fill=\"#ffffff\" stroke=\"transparent\" points=\"-4,4 -4,-905 1660,-905 1660,4 -4,4\"/>\n<!-- 0 -->\n<g id=\"node1\" class=\"node\">\n<title>0</title>\n<polygon fill=\"#e2fbed\" stroke=\"#000000\" points=\"399,-901 235,-901 235,-818 399,-818 399,-901\"/>\n<text text-anchor=\"middle\" x=\"317\" y=\"-885.8\" font-family=\"Times,serif\" font-size=\"14.00\" fill=\"#000000\">alcalinity_of_ash &lt;= 17.9</text>\n<text text-anchor=\"middle\" x=\"317\" y=\"-870.8\" font-family=\"Times,serif\" font-size=\"14.00\" fill=\"#000000\">gini = 0.657</text>\n<text text-anchor=\"middle\" x=\"317\" y=\"-855.8\" font-family=\"Times,serif\" font-size=\"14.00\" fill=\"#000000\">samples = 161</text>\n<text text-anchor=\"middle\" x=\"317\" y=\"-840.8\" font-family=\"Times,serif\" font-size=\"14.00\" fill=\"#000000\">value = [50, 66, 45]</text>\n<text text-anchor=\"middle\" x=\"317\" y=\"-825.8\" font-family=\"Times,serif\" font-size=\"14.00\" fill=\"#000000\">class = class_1</text>\n</g>\n<!-- 1 -->\n<g id=\"node2\" class=\"node\">\n<title>1</title>\n<polygon fill=\"#eead7f\" stroke=\"#000000\" points=\"306,-782 154,-782 154,-699 306,-699 306,-782\"/>\n<text text-anchor=\"middle\" x=\"230\" y=\"-766.8\" font-family=\"Times,serif\" font-size=\"14.00\" fill=\"#000000\">color_intensity &lt;= 3.55</text>\n<text text-anchor=\"middle\" x=\"230\" y=\"-751.8\" font-family=\"Times,serif\" font-size=\"14.00\" fill=\"#000000\">gini = 0.402</text>\n<text text-anchor=\"middle\" x=\"230\" y=\"-736.8\" font-family=\"Times,serif\" font-size=\"14.00\" fill=\"#000000\">samples = 45</text>\n<text text-anchor=\"middle\" x=\"230\" y=\"-721.8\" font-family=\"Times,serif\" font-size=\"14.00\" fill=\"#000000\">value = [33, 11, 1]</text>\n<text text-anchor=\"middle\" x=\"230\" y=\"-706.8\" font-family=\"Times,serif\" font-size=\"14.00\" fill=\"#000000\">class = class_0</text>\n</g>\n<!-- 0&#45;&gt;1 -->\n<g id=\"edge1\" class=\"edge\">\n<title>0&#45;&gt;1</title>\n<path fill=\"none\" stroke=\"#000000\" d=\"M286.5716,-817.8796C280.1189,-809.0534 273.243,-799.6485 266.5887,-790.5466\"/>\n<polygon fill=\"#000000\" stroke=\"#000000\" points=\"269.2856,-788.3051 260.5583,-782.2981 263.6347,-792.4364 269.2856,-788.3051\"/>\n<text text-anchor=\"middle\" x=\"256.7208\" y=\"-803.3018\" font-family=\"Times,serif\" font-size=\"14.00\" fill=\"#000000\">True</text>\n</g>\n<!-- 8 -->\n<g id=\"node9\" class=\"node\">\n<title>8</title>\n<polygon fill=\"#e1fbec\" stroke=\"#000000\" points=\"537,-782 405,-782 405,-699 537,-699 537,-782\"/>\n<text text-anchor=\"middle\" x=\"471\" y=\"-766.8\" font-family=\"Times,serif\" font-size=\"14.00\" fill=\"#000000\">alcohol &lt;= 12.745</text>\n<text text-anchor=\"middle\" x=\"471\" y=\"-751.8\" font-family=\"Times,serif\" font-size=\"14.00\" fill=\"#000000\">gini = 0.61</text>\n<text text-anchor=\"middle\" x=\"471\" y=\"-736.8\" font-family=\"Times,serif\" font-size=\"14.00\" fill=\"#000000\">samples = 116</text>\n<text text-anchor=\"middle\" x=\"471\" y=\"-721.8\" font-family=\"Times,serif\" font-size=\"14.00\" fill=\"#000000\">value = [17, 55, 44]</text>\n<text text-anchor=\"middle\" x=\"471\" y=\"-706.8\" font-family=\"Times,serif\" font-size=\"14.00\" fill=\"#000000\">class = class_1</text>\n</g>\n<!-- 0&#45;&gt;8 -->\n<g id=\"edge8\" class=\"edge\">\n<title>0&#45;&gt;8</title>\n<path fill=\"none\" stroke=\"#000000\" d=\"M370.8617,-817.8796C383.1709,-808.368 396.3497,-798.1843 408.9704,-788.432\"/>\n<polygon fill=\"#000000\" stroke=\"#000000\" points=\"411.3959,-790.9809 417.1687,-782.0969 407.1157,-785.4419 411.3959,-790.9809\"/>\n<text text-anchor=\"middle\" x=\"413.9896\" y=\"-803.194\" font-family=\"Times,serif\" font-size=\"14.00\" fill=\"#000000\">False</text>\n</g>\n<!-- 2 -->\n<g id=\"node3\" class=\"node\">\n<title>2</title>\n<polygon fill=\"#39e581\" stroke=\"#000000\" points=\"153,-655.5 43,-655.5 43,-587.5 153,-587.5 153,-655.5\"/>\n<text text-anchor=\"middle\" x=\"98\" y=\"-640.3\" font-family=\"Times,serif\" font-size=\"14.00\" fill=\"#000000\">gini = 0.0</text>\n<text text-anchor=\"middle\" x=\"98\" y=\"-625.3\" font-family=\"Times,serif\" font-size=\"14.00\" fill=\"#000000\">samples = 8</text>\n<text text-anchor=\"middle\" x=\"98\" y=\"-610.3\" font-family=\"Times,serif\" font-size=\"14.00\" fill=\"#000000\">value = [0, 8, 0]</text>\n<text text-anchor=\"middle\" x=\"98\" y=\"-595.3\" font-family=\"Times,serif\" font-size=\"14.00\" fill=\"#000000\">class = class_1</text>\n</g>\n<!-- 1&#45;&gt;2 -->\n<g id=\"edge2\" class=\"edge\">\n<title>1&#45;&gt;2</title>\n<path fill=\"none\" stroke=\"#000000\" d=\"M183.8328,-698.8796C170.7817,-687.1138 156.5899,-674.3197 143.5739,-662.5855\"/>\n<polygon fill=\"#000000\" stroke=\"#000000\" points=\"145.8346,-659.9113 136.0636,-655.8149 141.1474,-665.1104 145.8346,-659.9113\"/>\n</g>\n<!-- 3 -->\n<g id=\"node4\" class=\"node\">\n<title>3</title>\n<polygon fill=\"#e89050\" stroke=\"#000000\" points=\"288.5,-663 171.5,-663 171.5,-580 288.5,-580 288.5,-663\"/>\n<text text-anchor=\"middle\" x=\"230\" y=\"-647.8\" font-family=\"Times,serif\" font-size=\"14.00\" fill=\"#000000\">ash &lt;= 2.03</text>\n<text text-anchor=\"middle\" x=\"230\" y=\"-632.8\" font-family=\"Times,serif\" font-size=\"14.00\" fill=\"#000000\">gini = 0.197</text>\n<text text-anchor=\"middle\" x=\"230\" y=\"-617.8\" font-family=\"Times,serif\" font-size=\"14.00\" fill=\"#000000\">samples = 37</text>\n<text text-anchor=\"middle\" x=\"230\" y=\"-602.8\" font-family=\"Times,serif\" font-size=\"14.00\" fill=\"#000000\">value = [33, 3, 1]</text>\n<text text-anchor=\"middle\" x=\"230\" y=\"-587.8\" font-family=\"Times,serif\" font-size=\"14.00\" fill=\"#000000\">class = class_0</text>\n</g>\n<!-- 1&#45;&gt;3 -->\n<g id=\"edge3\" class=\"edge\">\n<title>1&#45;&gt;3</title>\n<path fill=\"none\" stroke=\"#000000\" d=\"M230,-698.8796C230,-690.6838 230,-681.9891 230,-673.5013\"/>\n<polygon fill=\"#000000\" stroke=\"#000000\" points=\"233.5001,-673.298 230,-663.2981 226.5001,-673.2981 233.5001,-673.298\"/>\n</g>\n<!-- 4 -->\n<g id=\"node5\" class=\"node\">\n<title>4</title>\n<polygon fill=\"#39e581\" stroke=\"#000000\" points=\"110,-536.5 0,-536.5 0,-468.5 110,-468.5 110,-536.5\"/>\n<text text-anchor=\"middle\" x=\"55\" y=\"-521.3\" font-family=\"Times,serif\" font-size=\"14.00\" fill=\"#000000\">gini = 0.0</text>\n<text text-anchor=\"middle\" x=\"55\" y=\"-506.3\" font-family=\"Times,serif\" font-size=\"14.00\" fill=\"#000000\">samples = 3</text>\n<text text-anchor=\"middle\" x=\"55\" y=\"-491.3\" font-family=\"Times,serif\" font-size=\"14.00\" fill=\"#000000\">value = [0, 3, 0]</text>\n<text text-anchor=\"middle\" x=\"55\" y=\"-476.3\" font-family=\"Times,serif\" font-size=\"14.00\" fill=\"#000000\">class = class_1</text>\n</g>\n<!-- 3&#45;&gt;4 -->\n<g id=\"edge4\" class=\"edge\">\n<title>3&#45;&gt;4</title>\n<path fill=\"none\" stroke=\"#000000\" d=\"M171.2407,-581.5437C152.6414,-568.8962 132.0931,-554.9233 113.5112,-542.2876\"/>\n<polygon fill=\"#000000\" stroke=\"#000000\" points=\"115.3634,-539.3146 105.126,-536.5857 111.4272,-545.1031 115.3634,-539.3146\"/>\n</g>\n<!-- 5 -->\n<g id=\"node6\" class=\"node\">\n<title>5</title>\n<polygon fill=\"#e6853f\" stroke=\"#000000\" points=\"331.5,-544 128.5,-544 128.5,-461 331.5,-461 331.5,-544\"/>\n<text text-anchor=\"middle\" x=\"230\" y=\"-528.8\" font-family=\"Times,serif\" font-size=\"14.00\" fill=\"#000000\">nonflavanoid_phenols &lt;= 0.515</text>\n<text text-anchor=\"middle\" x=\"230\" y=\"-513.8\" font-family=\"Times,serif\" font-size=\"14.00\" fill=\"#000000\">gini = 0.057</text>\n<text text-anchor=\"middle\" x=\"230\" y=\"-498.8\" font-family=\"Times,serif\" font-size=\"14.00\" fill=\"#000000\">samples = 34</text>\n<text text-anchor=\"middle\" x=\"230\" y=\"-483.8\" font-family=\"Times,serif\" font-size=\"14.00\" fill=\"#000000\">value = [33, 0, 1]</text>\n<text text-anchor=\"middle\" x=\"230\" y=\"-468.8\" font-family=\"Times,serif\" font-size=\"14.00\" fill=\"#000000\">class = class_0</text>\n</g>\n<!-- 3&#45;&gt;5 -->\n<g id=\"edge5\" class=\"edge\">\n<title>3&#45;&gt;5</title>\n<path fill=\"none\" stroke=\"#000000\" d=\"M230,-579.8796C230,-571.6838 230,-562.9891 230,-554.5013\"/>\n<polygon fill=\"#000000\" stroke=\"#000000\" points=\"233.5001,-554.298 230,-544.2981 226.5001,-554.2981 233.5001,-554.298\"/>\n</g>\n<!-- 6 -->\n<g id=\"node7\" class=\"node\">\n<title>6</title>\n<polygon fill=\"#e58139\" stroke=\"#000000\" points=\"175.5,-417.5 58.5,-417.5 58.5,-349.5 175.5,-349.5 175.5,-417.5\"/>\n<text text-anchor=\"middle\" x=\"117\" y=\"-402.3\" font-family=\"Times,serif\" font-size=\"14.00\" fill=\"#000000\">gini = 0.0</text>\n<text text-anchor=\"middle\" x=\"117\" y=\"-387.3\" font-family=\"Times,serif\" font-size=\"14.00\" fill=\"#000000\">samples = 33</text>\n<text text-anchor=\"middle\" x=\"117\" y=\"-372.3\" font-family=\"Times,serif\" font-size=\"14.00\" fill=\"#000000\">value = [33, 0, 0]</text>\n<text text-anchor=\"middle\" x=\"117\" y=\"-357.3\" font-family=\"Times,serif\" font-size=\"14.00\" fill=\"#000000\">class = class_0</text>\n</g>\n<!-- 5&#45;&gt;6 -->\n<g id=\"edge6\" class=\"edge\">\n<title>5&#45;&gt;6</title>\n<path fill=\"none\" stroke=\"#000000\" d=\"M190.4781,-460.8796C179.5143,-449.3337 167.6103,-436.7976 156.6399,-425.2446\"/>\n<polygon fill=\"#000000\" stroke=\"#000000\" points=\"159.0087,-422.6564 149.5848,-417.8149 153.9327,-427.4766 159.0087,-422.6564\"/>\n</g>\n<!-- 7 -->\n<g id=\"node8\" class=\"node\">\n<title>7</title>\n<polygon fill=\"#8139e5\" stroke=\"#000000\" points=\"304,-417.5 194,-417.5 194,-349.5 304,-349.5 304,-417.5\"/>\n<text text-anchor=\"middle\" x=\"249\" y=\"-402.3\" font-family=\"Times,serif\" font-size=\"14.00\" fill=\"#000000\">gini = 0.0</text>\n<text text-anchor=\"middle\" x=\"249\" y=\"-387.3\" font-family=\"Times,serif\" font-size=\"14.00\" fill=\"#000000\">samples = 1</text>\n<text text-anchor=\"middle\" x=\"249\" y=\"-372.3\" font-family=\"Times,serif\" font-size=\"14.00\" fill=\"#000000\">value = [0, 0, 1]</text>\n<text text-anchor=\"middle\" x=\"249\" y=\"-357.3\" font-family=\"Times,serif\" font-size=\"14.00\" fill=\"#000000\">class = class_2</text>\n</g>\n<!-- 5&#45;&gt;7 -->\n<g id=\"edge7\" class=\"edge\">\n<title>5&#45;&gt;7</title>\n<path fill=\"none\" stroke=\"#000000\" d=\"M236.6453,-460.8796C238.3483,-450.2134 240.1862,-438.7021 241.9107,-427.9015\"/>\n<polygon fill=\"#000000\" stroke=\"#000000\" points=\"245.4006,-428.2417 243.5211,-417.8149 238.4882,-427.138 245.4006,-428.2417\"/>\n</g>\n<!-- 9 -->\n<g id=\"node10\" class=\"node\">\n<title>9</title>\n<polygon fill=\"#59e995\" stroke=\"#000000\" points=\"556,-663 386,-663 386,-580 556,-580 556,-663\"/>\n<text text-anchor=\"middle\" x=\"471\" y=\"-647.8\" font-family=\"Times,serif\" font-size=\"14.00\" fill=\"#000000\">proanthocyanins &lt;= 0.945</text>\n<text text-anchor=\"middle\" x=\"471\" y=\"-632.8\" font-family=\"Times,serif\" font-size=\"14.00\" fill=\"#000000\">gini = 0.238</text>\n<text text-anchor=\"middle\" x=\"471\" y=\"-617.8\" font-family=\"Times,serif\" font-size=\"14.00\" fill=\"#000000\">samples = 58</text>\n<text text-anchor=\"middle\" x=\"471\" y=\"-602.8\" font-family=\"Times,serif\" font-size=\"14.00\" fill=\"#000000\">value = [0, 50, 8]</text>\n<text text-anchor=\"middle\" x=\"471\" y=\"-587.8\" font-family=\"Times,serif\" font-size=\"14.00\" fill=\"#000000\">class = class_1</text>\n</g>\n<!-- 8&#45;&gt;9 -->\n<g id=\"edge9\" class=\"edge\">\n<title>8&#45;&gt;9</title>\n<path fill=\"none\" stroke=\"#000000\" d=\"M471,-698.8796C471,-690.6838 471,-681.9891 471,-673.5013\"/>\n<polygon fill=\"#000000\" stroke=\"#000000\" points=\"474.5001,-673.298 471,-663.2981 467.5001,-673.2981 474.5001,-673.298\"/>\n</g>\n<!-- 16 -->\n<g id=\"node17\" class=\"node\">\n<title>16</title>\n<polygon fill=\"#c5a3f3\" stroke=\"#000000\" points=\"951,-663 789,-663 789,-580 951,-580 951,-663\"/>\n<text text-anchor=\"middle\" x=\"870\" y=\"-647.8\" font-family=\"Times,serif\" font-size=\"14.00\" fill=\"#000000\">proanthocyanins &lt;= 1.59</text>\n<text text-anchor=\"middle\" x=\"870\" y=\"-632.8\" font-family=\"Times,serif\" font-size=\"14.00\" fill=\"#000000\">gini = 0.521</text>\n<text text-anchor=\"middle\" x=\"870\" y=\"-617.8\" font-family=\"Times,serif\" font-size=\"14.00\" fill=\"#000000\">samples = 58</text>\n<text text-anchor=\"middle\" x=\"870\" y=\"-602.8\" font-family=\"Times,serif\" font-size=\"14.00\" fill=\"#000000\">value = [17, 5, 36]</text>\n<text text-anchor=\"middle\" x=\"870\" y=\"-587.8\" font-family=\"Times,serif\" font-size=\"14.00\" fill=\"#000000\">class = class_2</text>\n</g>\n<!-- 8&#45;&gt;16 -->\n<g id=\"edge16\" class=\"edge\">\n<title>8&#45;&gt;16</title>\n<path fill=\"none\" stroke=\"#000000\" d=\"M537.3346,-720.716C603.3959,-701.0135 705.309,-670.6184 778.9278,-648.6619\"/>\n<polygon fill=\"#000000\" stroke=\"#000000\" points=\"780.0843,-651.9694 788.6668,-645.7573 778.0836,-645.2614 780.0843,-651.9694\"/>\n</g>\n<!-- 10 -->\n<g id=\"node11\" class=\"node\">\n<title>10</title>\n<polygon fill=\"#8139e5\" stroke=\"#000000\" points=\"460,-536.5 350,-536.5 350,-468.5 460,-468.5 460,-536.5\"/>\n<text text-anchor=\"middle\" x=\"405\" y=\"-521.3\" font-family=\"Times,serif\" font-size=\"14.00\" fill=\"#000000\">gini = 0.0</text>\n<text text-anchor=\"middle\" x=\"405\" y=\"-506.3\" font-family=\"Times,serif\" font-size=\"14.00\" fill=\"#000000\">samples = 4</text>\n<text text-anchor=\"middle\" x=\"405\" y=\"-491.3\" font-family=\"Times,serif\" font-size=\"14.00\" fill=\"#000000\">value = [0, 0, 4]</text>\n<text text-anchor=\"middle\" x=\"405\" y=\"-476.3\" font-family=\"Times,serif\" font-size=\"14.00\" fill=\"#000000\">class = class_2</text>\n</g>\n<!-- 9&#45;&gt;10 -->\n<g id=\"edge10\" class=\"edge\">\n<title>9&#45;&gt;10</title>\n<path fill=\"none\" stroke=\"#000000\" d=\"M447.9164,-579.8796C441.7567,-568.7735 435.0889,-556.7513 428.8871,-545.5691\"/>\n<polygon fill=\"#000000\" stroke=\"#000000\" points=\"431.9428,-543.8624 424.0318,-536.8149 425.8213,-547.2576 431.9428,-543.8624\"/>\n</g>\n<!-- 11 -->\n<g id=\"node12\" class=\"node\">\n<title>11</title>\n<polygon fill=\"#49e78b\" stroke=\"#000000\" points=\"595.5,-544 478.5,-544 478.5,-461 595.5,-461 595.5,-544\"/>\n<text text-anchor=\"middle\" x=\"537\" y=\"-528.8\" font-family=\"Times,serif\" font-size=\"14.00\" fill=\"#000000\">hue &lt;= 0.71</text>\n<text text-anchor=\"middle\" x=\"537\" y=\"-513.8\" font-family=\"Times,serif\" font-size=\"14.00\" fill=\"#000000\">gini = 0.137</text>\n<text text-anchor=\"middle\" x=\"537\" y=\"-498.8\" font-family=\"Times,serif\" font-size=\"14.00\" fill=\"#000000\">samples = 54</text>\n<text text-anchor=\"middle\" x=\"537\" y=\"-483.8\" font-family=\"Times,serif\" font-size=\"14.00\" fill=\"#000000\">value = [0, 50, 4]</text>\n<text text-anchor=\"middle\" x=\"537\" y=\"-468.8\" font-family=\"Times,serif\" font-size=\"14.00\" fill=\"#000000\">class = class_1</text>\n</g>\n<!-- 9&#45;&gt;11 -->\n<g id=\"edge11\" class=\"edge\">\n<title>9&#45;&gt;11</title>\n<path fill=\"none\" stroke=\"#000000\" d=\"M494.0836,-579.8796C498.8789,-571.2335 503.9822,-562.0322 508.9338,-553.1042\"/>\n<polygon fill=\"#000000\" stroke=\"#000000\" points=\"512.0284,-554.7407 513.8179,-544.2981 505.9069,-551.3455 512.0284,-554.7407\"/>\n</g>\n<!-- 12 -->\n<g id=\"node13\" class=\"node\">\n<title>12</title>\n<polygon fill=\"#8139e5\" stroke=\"#000000\" points=\"452,-417.5 342,-417.5 342,-349.5 452,-349.5 452,-417.5\"/>\n<text text-anchor=\"middle\" x=\"397\" y=\"-402.3\" font-family=\"Times,serif\" font-size=\"14.00\" fill=\"#000000\">gini = 0.0</text>\n<text text-anchor=\"middle\" x=\"397\" y=\"-387.3\" font-family=\"Times,serif\" font-size=\"14.00\" fill=\"#000000\">samples = 3</text>\n<text text-anchor=\"middle\" x=\"397\" y=\"-372.3\" font-family=\"Times,serif\" font-size=\"14.00\" fill=\"#000000\">value = [0, 0, 3]</text>\n<text text-anchor=\"middle\" x=\"397\" y=\"-357.3\" font-family=\"Times,serif\" font-size=\"14.00\" fill=\"#000000\">class = class_2</text>\n</g>\n<!-- 11&#45;&gt;12 -->\n<g id=\"edge12\" class=\"edge\">\n<title>11&#45;&gt;12</title>\n<path fill=\"none\" stroke=\"#000000\" d=\"M488.0348,-460.8796C474.1927,-449.1138 459.1408,-436.3197 445.3359,-424.5855\"/>\n<polygon fill=\"#000000\" stroke=\"#000000\" points=\"447.2567,-421.6247 437.3705,-417.8149 442.7231,-426.9582 447.2567,-421.6247\"/>\n</g>\n<!-- 13 -->\n<g id=\"node14\" class=\"node\">\n<title>13</title>\n<polygon fill=\"#3de684\" stroke=\"#000000\" points=\"604,-425 470,-425 470,-342 604,-342 604,-425\"/>\n<text text-anchor=\"middle\" x=\"537\" y=\"-409.8\" font-family=\"Times,serif\" font-size=\"14.00\" fill=\"#000000\">flavanoids &lt;= 0.795</text>\n<text text-anchor=\"middle\" x=\"537\" y=\"-394.8\" font-family=\"Times,serif\" font-size=\"14.00\" fill=\"#000000\">gini = 0.038</text>\n<text text-anchor=\"middle\" x=\"537\" y=\"-379.8\" font-family=\"Times,serif\" font-size=\"14.00\" fill=\"#000000\">samples = 51</text>\n<text text-anchor=\"middle\" x=\"537\" y=\"-364.8\" font-family=\"Times,serif\" font-size=\"14.00\" fill=\"#000000\">value = [0, 50, 1]</text>\n<text text-anchor=\"middle\" x=\"537\" y=\"-349.8\" font-family=\"Times,serif\" font-size=\"14.00\" fill=\"#000000\">class = class_1</text>\n</g>\n<!-- 11&#45;&gt;13 -->\n<g id=\"edge13\" class=\"edge\">\n<title>11&#45;&gt;13</title>\n<path fill=\"none\" stroke=\"#000000\" d=\"M537,-460.8796C537,-452.6838 537,-443.9891 537,-435.5013\"/>\n<polygon fill=\"#000000\" stroke=\"#000000\" points=\"540.5001,-435.298 537,-425.2981 533.5001,-435.2981 540.5001,-435.298\"/>\n</g>\n<!-- 14 -->\n<g id=\"node15\" class=\"node\">\n<title>14</title>\n<polygon fill=\"#8139e5\" stroke=\"#000000\" points=\"460,-298.5 350,-298.5 350,-230.5 460,-230.5 460,-298.5\"/>\n<text text-anchor=\"middle\" x=\"405\" y=\"-283.3\" font-family=\"Times,serif\" font-size=\"14.00\" fill=\"#000000\">gini = 0.0</text>\n<text text-anchor=\"middle\" x=\"405\" y=\"-268.3\" font-family=\"Times,serif\" font-size=\"14.00\" fill=\"#000000\">samples = 1</text>\n<text text-anchor=\"middle\" x=\"405\" y=\"-253.3\" font-family=\"Times,serif\" font-size=\"14.00\" fill=\"#000000\">value = [0, 0, 1]</text>\n<text text-anchor=\"middle\" x=\"405\" y=\"-238.3\" font-family=\"Times,serif\" font-size=\"14.00\" fill=\"#000000\">class = class_2</text>\n</g>\n<!-- 13&#45;&gt;14 -->\n<g id=\"edge14\" class=\"edge\">\n<title>13&#45;&gt;14</title>\n<path fill=\"none\" stroke=\"#000000\" d=\"M490.8328,-341.8796C477.7817,-330.1138 463.5899,-317.3197 450.5739,-305.5855\"/>\n<polygon fill=\"#000000\" stroke=\"#000000\" points=\"452.8346,-302.9113 443.0636,-298.8149 448.1474,-308.1104 452.8346,-302.9113\"/>\n</g>\n<!-- 15 -->\n<g id=\"node16\" class=\"node\">\n<title>15</title>\n<polygon fill=\"#39e581\" stroke=\"#000000\" points=\"595.5,-298.5 478.5,-298.5 478.5,-230.5 595.5,-230.5 595.5,-298.5\"/>\n<text text-anchor=\"middle\" x=\"537\" y=\"-283.3\" font-family=\"Times,serif\" font-size=\"14.00\" fill=\"#000000\">gini = 0.0</text>\n<text text-anchor=\"middle\" x=\"537\" y=\"-268.3\" font-family=\"Times,serif\" font-size=\"14.00\" fill=\"#000000\">samples = 50</text>\n<text text-anchor=\"middle\" x=\"537\" y=\"-253.3\" font-family=\"Times,serif\" font-size=\"14.00\" fill=\"#000000\">value = [0, 50, 0]</text>\n<text text-anchor=\"middle\" x=\"537\" y=\"-238.3\" font-family=\"Times,serif\" font-size=\"14.00\" fill=\"#000000\">class = class_1</text>\n</g>\n<!-- 13&#45;&gt;15 -->\n<g id=\"edge15\" class=\"edge\">\n<title>13&#45;&gt;15</title>\n<path fill=\"none\" stroke=\"#000000\" d=\"M537,-341.8796C537,-331.2134 537,-319.7021 537,-308.9015\"/>\n<polygon fill=\"#000000\" stroke=\"#000000\" points=\"540.5001,-308.8149 537,-298.8149 533.5001,-308.815 540.5001,-308.8149\"/>\n</g>\n<!-- 17 -->\n<g id=\"node18\" class=\"node\">\n<title>17</title>\n<polygon fill=\"#975be9\" stroke=\"#000000\" points=\"934,-544 806,-544 806,-461 934,-461 934,-544\"/>\n<text text-anchor=\"middle\" x=\"870\" y=\"-528.8\" font-family=\"Times,serif\" font-size=\"14.00\" fill=\"#000000\">malic_acid &lt;= 1.85</text>\n<text text-anchor=\"middle\" x=\"870\" y=\"-513.8\" font-family=\"Times,serif\" font-size=\"14.00\" fill=\"#000000\">gini = 0.261</text>\n<text text-anchor=\"middle\" x=\"870\" y=\"-498.8\" font-family=\"Times,serif\" font-size=\"14.00\" fill=\"#000000\">samples = 40</text>\n<text text-anchor=\"middle\" x=\"870\" y=\"-483.8\" font-family=\"Times,serif\" font-size=\"14.00\" fill=\"#000000\">value = [5, 1, 34]</text>\n<text text-anchor=\"middle\" x=\"870\" y=\"-468.8\" font-family=\"Times,serif\" font-size=\"14.00\" fill=\"#000000\">class = class_2</text>\n</g>\n<!-- 16&#45;&gt;17 -->\n<g id=\"edge17\" class=\"edge\">\n<title>16&#45;&gt;17</title>\n<path fill=\"none\" stroke=\"#000000\" d=\"M870,-579.8796C870,-571.6838 870,-562.9891 870,-554.5013\"/>\n<polygon fill=\"#000000\" stroke=\"#000000\" points=\"873.5001,-554.298 870,-544.2981 866.5001,-554.2981 873.5001,-554.298\"/>\n</g>\n<!-- 26 -->\n<g id=\"node27\" class=\"node\">\n<title>26</title>\n<polygon fill=\"#f0b78e\" stroke=\"#000000\" points=\"1238,-544 978,-544 978,-461 1238,-461 1238,-544\"/>\n<text text-anchor=\"middle\" x=\"1108\" y=\"-528.8\" font-family=\"Times,serif\" font-size=\"14.00\" fill=\"#000000\">od280/od315_of_diluted_wines &lt;= 1.895</text>\n<text text-anchor=\"middle\" x=\"1108\" y=\"-513.8\" font-family=\"Times,serif\" font-size=\"14.00\" fill=\"#000000\">gini = 0.494</text>\n<text text-anchor=\"middle\" x=\"1108\" y=\"-498.8\" font-family=\"Times,serif\" font-size=\"14.00\" fill=\"#000000\">samples = 18</text>\n<text text-anchor=\"middle\" x=\"1108\" y=\"-483.8\" font-family=\"Times,serif\" font-size=\"14.00\" fill=\"#000000\">value = [12, 4, 2]</text>\n<text text-anchor=\"middle\" x=\"1108\" y=\"-468.8\" font-family=\"Times,serif\" font-size=\"14.00\" fill=\"#000000\">class = class_0</text>\n</g>\n<!-- 16&#45;&gt;26 -->\n<g id=\"edge26\" class=\"edge\">\n<title>16&#45;&gt;26</title>\n<path fill=\"none\" stroke=\"#000000\" d=\"M951.2404,-580.8798C971.9783,-570.5108 994.423,-559.2885 1015.6716,-548.6642\"/>\n<polygon fill=\"#000000\" stroke=\"#000000\" points=\"1017.3175,-551.7545 1024.6965,-544.1518 1014.1869,-545.4935 1017.3175,-551.7545\"/>\n</g>\n<!-- 18 -->\n<g id=\"node19\" class=\"node\">\n<title>18</title>\n<polygon fill=\"#f2c09c\" stroke=\"#000000\" points=\"895.5,-425 780.5,-425 780.5,-342 895.5,-342 895.5,-425\"/>\n<text text-anchor=\"middle\" x=\"838\" y=\"-409.8\" font-family=\"Times,serif\" font-size=\"14.00\" fill=\"#000000\">proline &lt;= 862.5</text>\n<text text-anchor=\"middle\" x=\"838\" y=\"-394.8\" font-family=\"Times,serif\" font-size=\"14.00\" fill=\"#000000\">gini = 0.56</text>\n<text text-anchor=\"middle\" x=\"838\" y=\"-379.8\" font-family=\"Times,serif\" font-size=\"14.00\" fill=\"#000000\">samples = 5</text>\n<text text-anchor=\"middle\" x=\"838\" y=\"-364.8\" font-family=\"Times,serif\" font-size=\"14.00\" fill=\"#000000\">value = [3, 1, 1]</text>\n<text text-anchor=\"middle\" x=\"838\" y=\"-349.8\" font-family=\"Times,serif\" font-size=\"14.00\" fill=\"#000000\">class = class_0</text>\n</g>\n<!-- 17&#45;&gt;18 -->\n<g id=\"edge18\" class=\"edge\">\n<title>17&#45;&gt;18</title>\n<path fill=\"none\" stroke=\"#000000\" d=\"M858.808,-460.8796C856.5798,-452.5938 854.2146,-443.798 851.9083,-435.2216\"/>\n<polygon fill=\"#000000\" stroke=\"#000000\" points=\"855.2166,-434.0461 849.2398,-425.2981 848.4568,-435.8639 855.2166,-434.0461\"/>\n</g>\n<!-- 23 -->\n<g id=\"node24\" class=\"node\">\n<title>23</title>\n<polygon fill=\"#8945e7\" stroke=\"#000000\" points=\"1030.5,-425 913.5,-425 913.5,-342 1030.5,-342 1030.5,-425\"/>\n<text text-anchor=\"middle\" x=\"972\" y=\"-409.8\" font-family=\"Times,serif\" font-size=\"14.00\" fill=\"#000000\">proline &lt;= 937.5</text>\n<text text-anchor=\"middle\" x=\"972\" y=\"-394.8\" font-family=\"Times,serif\" font-size=\"14.00\" fill=\"#000000\">gini = 0.108</text>\n<text text-anchor=\"middle\" x=\"972\" y=\"-379.8\" font-family=\"Times,serif\" font-size=\"14.00\" fill=\"#000000\">samples = 35</text>\n<text text-anchor=\"middle\" x=\"972\" y=\"-364.8\" font-family=\"Times,serif\" font-size=\"14.00\" fill=\"#000000\">value = [2, 0, 33]</text>\n<text text-anchor=\"middle\" x=\"972\" y=\"-349.8\" font-family=\"Times,serif\" font-size=\"14.00\" fill=\"#000000\">class = class_2</text>\n</g>\n<!-- 17&#45;&gt;23 -->\n<g id=\"edge23\" class=\"edge\">\n<title>17&#45;&gt;23</title>\n<path fill=\"none\" stroke=\"#000000\" d=\"M905.6747,-460.8796C913.3943,-451.8733 921.6305,-442.2644 929.5803,-432.9897\"/>\n<polygon fill=\"#000000\" stroke=\"#000000\" points=\"932.3225,-435.1684 936.1731,-425.2981 927.0077,-430.6129 932.3225,-435.1684\"/>\n</g>\n<!-- 19 -->\n<g id=\"node20\" class=\"node\">\n<title>19</title>\n<polygon fill=\"#ffffff\" stroke=\"#000000\" points=\"766,-306 614,-306 614,-223 766,-223 766,-306\"/>\n<text text-anchor=\"middle\" x=\"690\" y=\"-290.8\" font-family=\"Times,serif\" font-size=\"14.00\" fill=\"#000000\">color_intensity &lt;= 3.95</text>\n<text text-anchor=\"middle\" x=\"690\" y=\"-275.8\" font-family=\"Times,serif\" font-size=\"14.00\" fill=\"#000000\">gini = 0.5</text>\n<text text-anchor=\"middle\" x=\"690\" y=\"-260.8\" font-family=\"Times,serif\" font-size=\"14.00\" fill=\"#000000\">samples = 2</text>\n<text text-anchor=\"middle\" x=\"690\" y=\"-245.8\" font-family=\"Times,serif\" font-size=\"14.00\" fill=\"#000000\">value = [0, 1, 1]</text>\n<text text-anchor=\"middle\" x=\"690\" y=\"-230.8\" font-family=\"Times,serif\" font-size=\"14.00\" fill=\"#000000\">class = class_1</text>\n</g>\n<!-- 18&#45;&gt;19 -->\n<g id=\"edge19\" class=\"edge\">\n<title>18&#45;&gt;19</title>\n<path fill=\"none\" stroke=\"#000000\" d=\"M786.2368,-341.8796C774.4072,-332.368 761.7419,-322.1843 749.6129,-312.432\"/>\n<polygon fill=\"#000000\" stroke=\"#000000\" points=\"751.7204,-309.6355 741.734,-306.0969 747.3341,-315.0908 751.7204,-309.6355\"/>\n</g>\n<!-- 22 -->\n<g id=\"node23\" class=\"node\">\n<title>22</title>\n<polygon fill=\"#e58139\" stroke=\"#000000\" points=\"894,-298.5 784,-298.5 784,-230.5 894,-230.5 894,-298.5\"/>\n<text text-anchor=\"middle\" x=\"839\" y=\"-283.3\" font-family=\"Times,serif\" font-size=\"14.00\" fill=\"#000000\">gini = 0.0</text>\n<text text-anchor=\"middle\" x=\"839\" y=\"-268.3\" font-family=\"Times,serif\" font-size=\"14.00\" fill=\"#000000\">samples = 3</text>\n<text text-anchor=\"middle\" x=\"839\" y=\"-253.3\" font-family=\"Times,serif\" font-size=\"14.00\" fill=\"#000000\">value = [3, 0, 0]</text>\n<text text-anchor=\"middle\" x=\"839\" y=\"-238.3\" font-family=\"Times,serif\" font-size=\"14.00\" fill=\"#000000\">class = class_0</text>\n</g>\n<!-- 18&#45;&gt;22 -->\n<g id=\"edge22\" class=\"edge\">\n<title>18&#45;&gt;22</title>\n<path fill=\"none\" stroke=\"#000000\" d=\"M838.3498,-341.8796C838.4394,-331.2134 838.5361,-319.7021 838.6269,-308.9015\"/>\n<polygon fill=\"#000000\" stroke=\"#000000\" points=\"842.1274,-308.844 838.7116,-298.8149 835.1276,-308.7851 842.1274,-308.844\"/>\n</g>\n<!-- 20 -->\n<g id=\"node21\" class=\"node\">\n<title>20</title>\n<polygon fill=\"#39e581\" stroke=\"#000000\" points=\"681,-179.5 571,-179.5 571,-111.5 681,-111.5 681,-179.5\"/>\n<text text-anchor=\"middle\" x=\"626\" y=\"-164.3\" font-family=\"Times,serif\" font-size=\"14.00\" fill=\"#000000\">gini = 0.0</text>\n<text text-anchor=\"middle\" x=\"626\" y=\"-149.3\" font-family=\"Times,serif\" font-size=\"14.00\" fill=\"#000000\">samples = 1</text>\n<text text-anchor=\"middle\" x=\"626\" y=\"-134.3\" font-family=\"Times,serif\" font-size=\"14.00\" fill=\"#000000\">value = [0, 1, 0]</text>\n<text text-anchor=\"middle\" x=\"626\" y=\"-119.3\" font-family=\"Times,serif\" font-size=\"14.00\" fill=\"#000000\">class = class_1</text>\n</g>\n<!-- 19&#45;&gt;20 -->\n<g id=\"edge20\" class=\"edge\">\n<title>19&#45;&gt;20</title>\n<path fill=\"none\" stroke=\"#000000\" d=\"M667.6159,-222.8796C661.702,-211.8835 655.3051,-199.9893 649.342,-188.9015\"/>\n<polygon fill=\"#000000\" stroke=\"#000000\" points=\"652.2742,-186.9642 644.4551,-179.8149 646.1092,-190.2799 652.2742,-186.9642\"/>\n</g>\n<!-- 21 -->\n<g id=\"node22\" class=\"node\">\n<title>21</title>\n<polygon fill=\"#8139e5\" stroke=\"#000000\" points=\"809,-179.5 699,-179.5 699,-111.5 809,-111.5 809,-179.5\"/>\n<text text-anchor=\"middle\" x=\"754\" y=\"-164.3\" font-family=\"Times,serif\" font-size=\"14.00\" fill=\"#000000\">gini = 0.0</text>\n<text text-anchor=\"middle\" x=\"754\" y=\"-149.3\" font-family=\"Times,serif\" font-size=\"14.00\" fill=\"#000000\">samples = 1</text>\n<text text-anchor=\"middle\" x=\"754\" y=\"-134.3\" font-family=\"Times,serif\" font-size=\"14.00\" fill=\"#000000\">value = [0, 0, 1]</text>\n<text text-anchor=\"middle\" x=\"754\" y=\"-119.3\" font-family=\"Times,serif\" font-size=\"14.00\" fill=\"#000000\">class = class_2</text>\n</g>\n<!-- 19&#45;&gt;21 -->\n<g id=\"edge21\" class=\"edge\">\n<title>19&#45;&gt;21</title>\n<path fill=\"none\" stroke=\"#000000\" d=\"M712.3841,-222.8796C718.298,-211.8835 724.6949,-199.9893 730.658,-188.9015\"/>\n<polygon fill=\"#000000\" stroke=\"#000000\" points=\"733.8908,-190.2799 735.5449,-179.8149 727.7258,-186.9642 733.8908,-190.2799\"/>\n</g>\n<!-- 24 -->\n<g id=\"node25\" class=\"node\">\n<title>24</title>\n<polygon fill=\"#8139e5\" stroke=\"#000000\" points=\"1029.5,-298.5 912.5,-298.5 912.5,-230.5 1029.5,-230.5 1029.5,-298.5\"/>\n<text text-anchor=\"middle\" x=\"971\" y=\"-283.3\" font-family=\"Times,serif\" font-size=\"14.00\" fill=\"#000000\">gini = 0.0</text>\n<text text-anchor=\"middle\" x=\"971\" y=\"-268.3\" font-family=\"Times,serif\" font-size=\"14.00\" fill=\"#000000\">samples = 33</text>\n<text text-anchor=\"middle\" x=\"971\" y=\"-253.3\" font-family=\"Times,serif\" font-size=\"14.00\" fill=\"#000000\">value = [0, 0, 33]</text>\n<text text-anchor=\"middle\" x=\"971\" y=\"-238.3\" font-family=\"Times,serif\" font-size=\"14.00\" fill=\"#000000\">class = class_2</text>\n</g>\n<!-- 23&#45;&gt;24 -->\n<g id=\"edge24\" class=\"edge\">\n<title>23&#45;&gt;24</title>\n<path fill=\"none\" stroke=\"#000000\" d=\"M971.6502,-341.8796C971.5606,-331.2134 971.4639,-319.7021 971.3731,-308.9015\"/>\n<polygon fill=\"#000000\" stroke=\"#000000\" points=\"974.8724,-308.7851 971.2884,-298.8149 967.8726,-308.844 974.8724,-308.7851\"/>\n</g>\n<!-- 25 -->\n<g id=\"node26\" class=\"node\">\n<title>25</title>\n<polygon fill=\"#e58139\" stroke=\"#000000\" points=\"1158,-298.5 1048,-298.5 1048,-230.5 1158,-230.5 1158,-298.5\"/>\n<text text-anchor=\"middle\" x=\"1103\" y=\"-283.3\" font-family=\"Times,serif\" font-size=\"14.00\" fill=\"#000000\">gini = 0.0</text>\n<text text-anchor=\"middle\" x=\"1103\" y=\"-268.3\" font-family=\"Times,serif\" font-size=\"14.00\" fill=\"#000000\">samples = 2</text>\n<text text-anchor=\"middle\" x=\"1103\" y=\"-253.3\" font-family=\"Times,serif\" font-size=\"14.00\" fill=\"#000000\">value = [2, 0, 0]</text>\n<text text-anchor=\"middle\" x=\"1103\" y=\"-238.3\" font-family=\"Times,serif\" font-size=\"14.00\" fill=\"#000000\">class = class_0</text>\n</g>\n<!-- 23&#45;&gt;25 -->\n<g id=\"edge25\" class=\"edge\">\n<title>23&#45;&gt;25</title>\n<path fill=\"none\" stroke=\"#000000\" d=\"M1017.8174,-341.8796C1030.7697,-330.1138 1044.854,-317.3197 1057.7714,-305.5855\"/>\n<polygon fill=\"#000000\" stroke=\"#000000\" points=\"1060.1761,-308.1296 1065.2247,-298.8149 1055.4694,-302.9482 1060.1761,-308.1296\"/>\n</g>\n<!-- 27 -->\n<g id=\"node28\" class=\"node\">\n<title>27</title>\n<polygon fill=\"#8139e5\" stroke=\"#000000\" points=\"1163,-417.5 1053,-417.5 1053,-349.5 1163,-349.5 1163,-417.5\"/>\n<text text-anchor=\"middle\" x=\"1108\" y=\"-402.3\" font-family=\"Times,serif\" font-size=\"14.00\" fill=\"#000000\">gini = 0.0</text>\n<text text-anchor=\"middle\" x=\"1108\" y=\"-387.3\" font-family=\"Times,serif\" font-size=\"14.00\" fill=\"#000000\">samples = 2</text>\n<text text-anchor=\"middle\" x=\"1108\" y=\"-372.3\" font-family=\"Times,serif\" font-size=\"14.00\" fill=\"#000000\">value = [0, 0, 2]</text>\n<text text-anchor=\"middle\" x=\"1108\" y=\"-357.3\" font-family=\"Times,serif\" font-size=\"14.00\" fill=\"#000000\">class = class_2</text>\n</g>\n<!-- 26&#45;&gt;27 -->\n<g id=\"edge27\" class=\"edge\">\n<title>26&#45;&gt;27</title>\n<path fill=\"none\" stroke=\"#000000\" d=\"M1108,-460.8796C1108,-450.2134 1108,-438.7021 1108,-427.9015\"/>\n<polygon fill=\"#000000\" stroke=\"#000000\" points=\"1111.5001,-427.8149 1108,-417.8149 1104.5001,-427.815 1111.5001,-427.8149\"/>\n</g>\n<!-- 28 -->\n<g id=\"node29\" class=\"node\">\n<title>28</title>\n<polygon fill=\"#eeab7b\" stroke=\"#000000\" points=\"1338,-425 1186,-425 1186,-342 1338,-342 1338,-425\"/>\n<text text-anchor=\"middle\" x=\"1262\" y=\"-409.8\" font-family=\"Times,serif\" font-size=\"14.00\" fill=\"#000000\">total_phenols &lt;= 2.625</text>\n<text text-anchor=\"middle\" x=\"1262\" y=\"-394.8\" font-family=\"Times,serif\" font-size=\"14.00\" fill=\"#000000\">gini = 0.375</text>\n<text text-anchor=\"middle\" x=\"1262\" y=\"-379.8\" font-family=\"Times,serif\" font-size=\"14.00\" fill=\"#000000\">samples = 16</text>\n<text text-anchor=\"middle\" x=\"1262\" y=\"-364.8\" font-family=\"Times,serif\" font-size=\"14.00\" fill=\"#000000\">value = [12, 4, 0]</text>\n<text text-anchor=\"middle\" x=\"1262\" y=\"-349.8\" font-family=\"Times,serif\" font-size=\"14.00\" fill=\"#000000\">class = class_0</text>\n</g>\n<!-- 26&#45;&gt;28 -->\n<g id=\"edge28\" class=\"edge\">\n<title>26&#45;&gt;28</title>\n<path fill=\"none\" stroke=\"#000000\" d=\"M1161.8617,-460.8796C1174.1709,-451.368 1187.3497,-441.1843 1199.9704,-431.432\"/>\n<polygon fill=\"#000000\" stroke=\"#000000\" points=\"1202.3959,-433.9809 1208.1687,-425.0969 1198.1157,-428.4419 1202.3959,-433.9809\"/>\n</g>\n<!-- 29 -->\n<g id=\"node30\" class=\"node\">\n<title>29</title>\n<polygon fill=\"#9cf2c0\" stroke=\"#000000\" points=\"1348,-306 1176,-306 1176,-223 1348,-223 1348,-306\"/>\n<text text-anchor=\"middle\" x=\"1262\" y=\"-290.8\" font-family=\"Times,serif\" font-size=\"14.00\" fill=\"#000000\">alcalinity_of_ash &lt;= 20.75</text>\n<text text-anchor=\"middle\" x=\"1262\" y=\"-275.8\" font-family=\"Times,serif\" font-size=\"14.00\" fill=\"#000000\">gini = 0.444</text>\n<text text-anchor=\"middle\" x=\"1262\" y=\"-260.8\" font-family=\"Times,serif\" font-size=\"14.00\" fill=\"#000000\">samples = 3</text>\n<text text-anchor=\"middle\" x=\"1262\" y=\"-245.8\" font-family=\"Times,serif\" font-size=\"14.00\" fill=\"#000000\">value = [1, 2, 0]</text>\n<text text-anchor=\"middle\" x=\"1262\" y=\"-230.8\" font-family=\"Times,serif\" font-size=\"14.00\" fill=\"#000000\">class = class_1</text>\n</g>\n<!-- 28&#45;&gt;29 -->\n<g id=\"edge29\" class=\"edge\">\n<title>28&#45;&gt;29</title>\n<path fill=\"none\" stroke=\"#000000\" d=\"M1262,-341.8796C1262,-333.6838 1262,-324.9891 1262,-316.5013\"/>\n<polygon fill=\"#000000\" stroke=\"#000000\" points=\"1265.5001,-316.298 1262,-306.2981 1258.5001,-316.2981 1265.5001,-316.298\"/>\n</g>\n<!-- 32 -->\n<g id=\"node33\" class=\"node\">\n<title>32</title>\n<polygon fill=\"#ea985d\" stroke=\"#000000\" points=\"1626,-306 1366,-306 1366,-223 1626,-223 1626,-306\"/>\n<text text-anchor=\"middle\" x=\"1496\" y=\"-290.8\" font-family=\"Times,serif\" font-size=\"14.00\" fill=\"#000000\">od280/od315_of_diluted_wines &lt;= 3.485</text>\n<text text-anchor=\"middle\" x=\"1496\" y=\"-275.8\" font-family=\"Times,serif\" font-size=\"14.00\" fill=\"#000000\">gini = 0.26</text>\n<text text-anchor=\"middle\" x=\"1496\" y=\"-260.8\" font-family=\"Times,serif\" font-size=\"14.00\" fill=\"#000000\">samples = 13</text>\n<text text-anchor=\"middle\" x=\"1496\" y=\"-245.8\" font-family=\"Times,serif\" font-size=\"14.00\" fill=\"#000000\">value = [11, 2, 0]</text>\n<text text-anchor=\"middle\" x=\"1496\" y=\"-230.8\" font-family=\"Times,serif\" font-size=\"14.00\" fill=\"#000000\">class = class_0</text>\n</g>\n<!-- 28&#45;&gt;32 -->\n<g id=\"edge32\" class=\"edge\">\n<title>28&#45;&gt;32</title>\n<path fill=\"none\" stroke=\"#000000\" d=\"M1338.2966,-344.6996C1359.6307,-333.8502 1383.0274,-321.9519 1405.1156,-310.719\"/>\n<polygon fill=\"#000000\" stroke=\"#000000\" points=\"1406.835,-313.7713 1414.162,-306.1185 1403.6618,-307.5317 1406.835,-313.7713\"/>\n</g>\n<!-- 30 -->\n<g id=\"node31\" class=\"node\">\n<title>30</title>\n<polygon fill=\"#e58139\" stroke=\"#000000\" points=\"1215,-179.5 1105,-179.5 1105,-111.5 1215,-111.5 1215,-179.5\"/>\n<text text-anchor=\"middle\" x=\"1160\" y=\"-164.3\" font-family=\"Times,serif\" font-size=\"14.00\" fill=\"#000000\">gini = 0.0</text>\n<text text-anchor=\"middle\" x=\"1160\" y=\"-149.3\" font-family=\"Times,serif\" font-size=\"14.00\" fill=\"#000000\">samples = 1</text>\n<text text-anchor=\"middle\" x=\"1160\" y=\"-134.3\" font-family=\"Times,serif\" font-size=\"14.00\" fill=\"#000000\">value = [1, 0, 0]</text>\n<text text-anchor=\"middle\" x=\"1160\" y=\"-119.3\" font-family=\"Times,serif\" font-size=\"14.00\" fill=\"#000000\">class = class_0</text>\n</g>\n<!-- 29&#45;&gt;30 -->\n<g id=\"edge30\" class=\"edge\">\n<title>29&#45;&gt;30</title>\n<path fill=\"none\" stroke=\"#000000\" d=\"M1226.3253,-222.8796C1216.5231,-211.4436 1205.8882,-199.0363 1196.0643,-187.575\"/>\n<polygon fill=\"#000000\" stroke=\"#000000\" points=\"1198.5782,-185.1297 1189.4128,-179.8149 1193.2633,-189.6853 1198.5782,-185.1297\"/>\n</g>\n<!-- 31 -->\n<g id=\"node32\" class=\"node\">\n<title>31</title>\n<polygon fill=\"#39e581\" stroke=\"#000000\" points=\"1343,-179.5 1233,-179.5 1233,-111.5 1343,-111.5 1343,-179.5\"/>\n<text text-anchor=\"middle\" x=\"1288\" y=\"-164.3\" font-family=\"Times,serif\" font-size=\"14.00\" fill=\"#000000\">gini = 0.0</text>\n<text text-anchor=\"middle\" x=\"1288\" y=\"-149.3\" font-family=\"Times,serif\" font-size=\"14.00\" fill=\"#000000\">samples = 2</text>\n<text text-anchor=\"middle\" x=\"1288\" y=\"-134.3\" font-family=\"Times,serif\" font-size=\"14.00\" fill=\"#000000\">value = [0, 2, 0]</text>\n<text text-anchor=\"middle\" x=\"1288\" y=\"-119.3\" font-family=\"Times,serif\" font-size=\"14.00\" fill=\"#000000\">class = class_1</text>\n</g>\n<!-- 29&#45;&gt;31 -->\n<g id=\"edge31\" class=\"edge\">\n<title>29&#45;&gt;31</title>\n<path fill=\"none\" stroke=\"#000000\" d=\"M1271.0935,-222.8796C1273.424,-212.2134 1275.939,-200.7021 1278.2988,-189.9015\"/>\n<polygon fill=\"#000000\" stroke=\"#000000\" points=\"1281.7874,-190.3316 1280.5026,-179.8149 1274.9487,-188.8374 1281.7874,-190.3316\"/>\n</g>\n<!-- 33 -->\n<g id=\"node34\" class=\"node\">\n<title>33</title>\n<polygon fill=\"#e78c4b\" stroke=\"#000000\" points=\"1528,-187 1412,-187 1412,-104 1528,-104 1528,-187\"/>\n<text text-anchor=\"middle\" x=\"1470\" y=\"-171.8\" font-family=\"Times,serif\" font-size=\"14.00\" fill=\"#000000\">proline &lt;= 572.5</text>\n<text text-anchor=\"middle\" x=\"1470\" y=\"-156.8\" font-family=\"Times,serif\" font-size=\"14.00\" fill=\"#000000\">gini = 0.153</text>\n<text text-anchor=\"middle\" x=\"1470\" y=\"-141.8\" font-family=\"Times,serif\" font-size=\"14.00\" fill=\"#000000\">samples = 12</text>\n<text text-anchor=\"middle\" x=\"1470\" y=\"-126.8\" font-family=\"Times,serif\" font-size=\"14.00\" fill=\"#000000\">value = [11, 1, 0]</text>\n<text text-anchor=\"middle\" x=\"1470\" y=\"-111.8\" font-family=\"Times,serif\" font-size=\"14.00\" fill=\"#000000\">class = class_0</text>\n</g>\n<!-- 32&#45;&gt;33 -->\n<g id=\"edge33\" class=\"edge\">\n<title>32&#45;&gt;33</title>\n<path fill=\"none\" stroke=\"#000000\" d=\"M1486.9065,-222.8796C1485.0961,-214.5938 1483.1743,-205.798 1481.3005,-197.2216\"/>\n<polygon fill=\"#000000\" stroke=\"#000000\" points=\"1484.6863,-196.3205 1479.1324,-187.2981 1477.8476,-197.8147 1484.6863,-196.3205\"/>\n</g>\n<!-- 36 -->\n<g id=\"node37\" class=\"node\">\n<title>36</title>\n<polygon fill=\"#39e581\" stroke=\"#000000\" points=\"1656,-179.5 1546,-179.5 1546,-111.5 1656,-111.5 1656,-179.5\"/>\n<text text-anchor=\"middle\" x=\"1601\" y=\"-164.3\" font-family=\"Times,serif\" font-size=\"14.00\" fill=\"#000000\">gini = 0.0</text>\n<text text-anchor=\"middle\" x=\"1601\" y=\"-149.3\" font-family=\"Times,serif\" font-size=\"14.00\" fill=\"#000000\">samples = 1</text>\n<text text-anchor=\"middle\" x=\"1601\" y=\"-134.3\" font-family=\"Times,serif\" font-size=\"14.00\" fill=\"#000000\">value = [0, 1, 0]</text>\n<text text-anchor=\"middle\" x=\"1601\" y=\"-119.3\" font-family=\"Times,serif\" font-size=\"14.00\" fill=\"#000000\">class = class_1</text>\n</g>\n<!-- 32&#45;&gt;36 -->\n<g id=\"edge36\" class=\"edge\">\n<title>32&#45;&gt;36</title>\n<path fill=\"none\" stroke=\"#000000\" d=\"M1532.7239,-222.8796C1542.8144,-211.4436 1553.7621,-199.0363 1563.875,-187.575\"/>\n<polygon fill=\"#000000\" stroke=\"#000000\" points=\"1566.7303,-189.629 1570.7221,-179.8149 1561.4814,-184.9977 1566.7303,-189.629\"/>\n</g>\n<!-- 34 -->\n<g id=\"node35\" class=\"node\">\n<title>34</title>\n<polygon fill=\"#39e581\" stroke=\"#000000\" points=\"1459,-68 1349,-68 1349,0 1459,0 1459,-68\"/>\n<text text-anchor=\"middle\" x=\"1404\" y=\"-52.8\" font-family=\"Times,serif\" font-size=\"14.00\" fill=\"#000000\">gini = 0.0</text>\n<text text-anchor=\"middle\" x=\"1404\" y=\"-37.8\" font-family=\"Times,serif\" font-size=\"14.00\" fill=\"#000000\">samples = 1</text>\n<text text-anchor=\"middle\" x=\"1404\" y=\"-22.8\" font-family=\"Times,serif\" font-size=\"14.00\" fill=\"#000000\">value = [0, 1, 0]</text>\n<text text-anchor=\"middle\" x=\"1404\" y=\"-7.8\" font-family=\"Times,serif\" font-size=\"14.00\" fill=\"#000000\">class = class_1</text>\n</g>\n<!-- 33&#45;&gt;34 -->\n<g id=\"edge34\" class=\"edge\">\n<title>33&#45;&gt;34</title>\n<path fill=\"none\" stroke=\"#000000\" d=\"M1445.424,-103.9815C1440.2014,-95.1585 1434.6771,-85.8258 1429.4237,-76.9506\"/>\n<polygon fill=\"#000000\" stroke=\"#000000\" points=\"1432.3874,-75.0863 1424.2816,-68.2637 1426.3636,-78.652 1432.3874,-75.0863\"/>\n</g>\n<!-- 35 -->\n<g id=\"node36\" class=\"node\">\n<title>35</title>\n<polygon fill=\"#e58139\" stroke=\"#000000\" points=\"1593,-68 1477,-68 1477,0 1593,0 1593,-68\"/>\n<text text-anchor=\"middle\" x=\"1535\" y=\"-52.8\" font-family=\"Times,serif\" font-size=\"14.00\" fill=\"#000000\">gini = 0.0</text>\n<text text-anchor=\"middle\" x=\"1535\" y=\"-37.8\" font-family=\"Times,serif\" font-size=\"14.00\" fill=\"#000000\">samples = 11</text>\n<text text-anchor=\"middle\" x=\"1535\" y=\"-22.8\" font-family=\"Times,serif\" font-size=\"14.00\" fill=\"#000000\">value = [11, 0, 0]</text>\n<text text-anchor=\"middle\" x=\"1535\" y=\"-7.8\" font-family=\"Times,serif\" font-size=\"14.00\" fill=\"#000000\">class = class_0</text>\n</g>\n<!-- 33&#45;&gt;35 -->\n<g id=\"edge35\" class=\"edge\">\n<title>33&#45;&gt;35</title>\n<path fill=\"none\" stroke=\"#000000\" d=\"M1494.2036,-103.9815C1499.3471,-95.1585 1504.7877,-85.8258 1509.9616,-76.9506\"/>\n<polygon fill=\"#000000\" stroke=\"#000000\" points=\"1513.013,-78.6656 1515.0257,-68.2637 1506.9656,-75.1402 1513.013,-78.6656\"/>\n</g>\n</g>\n</svg>\n"
          },
          "metadata": {
            "tags": []
          },
          "execution_count": 30
        }
      ]
    },
    {
      "cell_type": "markdown",
      "metadata": {
        "id": "XLY2b9Zj4I_R"
      },
      "source": [
        "The model works more accurately than without tuning hyperparameters, but from the graph you can see that the depth of the tree has increased, while there is only one object in several sheets, the tree could lose some generalizing ability on the test dataset."
      ]
    },
    {
      "cell_type": "code",
      "metadata": {
        "id": "UoJsFZiFM8aE"
      },
      "source": [
        "# tree with GridSearchCV"
      ],
      "execution_count": null,
      "outputs": []
    },
    {
      "cell_type": "code",
      "metadata": {
        "id": "UeNf1bED4I_U"
      },
      "source": [
        "from sklearn.model_selection import GridSearchCV, cross_val_score"
      ],
      "execution_count": null,
      "outputs": []
    },
    {
      "cell_type": "code",
      "metadata": {
        "id": "ZsXG1rh64I_X"
      },
      "source": [
        "tree_params = {'max_depth': range(1, 6), \n",
        "               'max_features': range(1, 10)}\n",
        "\n",
        "tree = dtc_1\n",
        "tree_grid = GridSearchCV(tree, tree_params, cv=5)"
      ],
      "execution_count": null,
      "outputs": []
    },
    {
      "cell_type": "markdown",
      "metadata": {
        "id": "tRPqIdCD4I_a"
      },
      "source": [
        "### 7.\n",
        "Create train model with tree_grid.fit() and find best parameter combination tree_grid.best_params_."
      ]
    },
    {
      "cell_type": "code",
      "metadata": {
        "id": "JHVTQPfV4I_a",
        "colab": {
          "base_uri": "https://localhost:8080/"
        },
        "outputId": "4c06560c-c249-4f41-84d9-ffd69e97e1b6"
      },
      "source": [
        "tree_grid.fit(X_train, y_train)"
      ],
      "execution_count": null,
      "outputs": [
        {
          "output_type": "execute_result",
          "data": {
            "text/plain": [
              "GridSearchCV(cv=5, error_score=nan,\n",
              "             estimator=DecisionTreeClassifier(ccp_alpha=0.0, class_weight=None,\n",
              "                                              criterion='gini', max_depth=None,\n",
              "                                              max_features=2,\n",
              "                                              max_leaf_nodes=None,\n",
              "                                              min_impurity_decrease=0.0,\n",
              "                                              min_impurity_split=None,\n",
              "                                              min_samples_leaf=1,\n",
              "                                              min_samples_split=2,\n",
              "                                              min_weight_fraction_leaf=0.0,\n",
              "                                              presort='deprecated',\n",
              "                                              random_state=None,\n",
              "                                              splitter='best'),\n",
              "             iid='deprecated', n_jobs=None,\n",
              "             param_grid={'max_depth': range(1, 6),\n",
              "                         'max_features': range(1, 10)},\n",
              "             pre_dispatch='2*n_jobs', refit=True, return_train_score=False,\n",
              "             scoring=None, verbose=0)"
            ]
          },
          "metadata": {
            "tags": []
          },
          "execution_count": 34
        }
      ]
    },
    {
      "cell_type": "code",
      "metadata": {
        "colab": {
          "base_uri": "https://localhost:8080/"
        },
        "id": "x1Q2RFWVhHxI",
        "outputId": "f4be7e20-b7c6-497a-adc9-73340b945cfa"
      },
      "source": [
        "tree_grid.best_params_"
      ],
      "execution_count": null,
      "outputs": [
        {
          "output_type": "execute_result",
          "data": {
            "text/plain": [
              "{'max_depth': 5, 'max_features': 6}"
            ]
          },
          "metadata": {
            "tags": []
          },
          "execution_count": 35
        }
      ]
    },
    {
      "cell_type": "markdown",
      "metadata": {
        "id": "p5s_eukw4I_c"
      },
      "source": [
        "Pridiction on X_test and tree_grid.best_params_"
      ]
    },
    {
      "cell_type": "code",
      "metadata": {
        "id": "_n05UvV54I_d"
      },
      "source": [
        "from sklearn.metrics import accuracy_score"
      ],
      "execution_count": null,
      "outputs": []
    },
    {
      "cell_type": "code",
      "metadata": {
        "id": "9N55pj4y4I_g"
      },
      "source": [
        "predicted = tree_grid.predict(X_test)\n"
      ],
      "execution_count": null,
      "outputs": []
    },
    {
      "cell_type": "code",
      "metadata": {
        "colab": {
          "base_uri": "https://localhost:8080/"
        },
        "id": "5N81STTphiJF",
        "outputId": "5a8247a1-c46d-4203-c974-2762d7058ed4"
      },
      "source": [
        "accuracy = tree_grid.score(X_test, y_test)\n",
        "print(f'Accuracy: {accuracy}')"
      ],
      "execution_count": null,
      "outputs": [
        {
          "output_type": "stream",
          "text": [
            "Accuracy: 1.0\n"
          ],
          "name": "stdout"
        }
      ]
    }
  ]
}